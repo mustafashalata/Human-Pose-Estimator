{
  "cells": [
    {
      "cell_type": "code",
      "execution_count": null,
      "metadata": {
        "id": "IuS5pcuGxu9e"
      },
      "outputs": [],
      "source": [
        "!pip install opencv-python"
      ]
    },
    {
      "cell_type": "code",
      "execution_count": null,
      "metadata": {
        "id": "lk_z7wRExu9g"
      },
      "outputs": [],
      "source": [
        "!pip install mediapipe"
      ]
    },
    {
      "cell_type": "code",
      "execution_count": null,
      "metadata": {
        "id": "kB-R8wNgxu9h"
      },
      "outputs": [],
      "source": [
        "\n",
        "import cv2\n",
        "import mediapipe as mp\n",
        "import numpy as np\n",
        "mp_drawing = mp.solutions.drawing_utils\n",
        "mp_pose = mp.solutions.pose"
      ]
    },
    {
      "cell_type": "code",
      "execution_count": null,
      "metadata": {
        "id": "gYCyjg4lxu9h"
      },
      "outputs": [],
      "source": [
        "\n",
        "\n",
        "cap = cv2.VideoCapture(0)\n",
        "## Setup mediapipe instance\n",
        "with mp_pose.Pose(min_detection_confidence=0.5, min_tracking_confidence=0.5) as pose:\n",
        "    while cap.isOpened():\n",
        "        ret, frame = cap.read()\n",
        "        \n",
        "        # Recolor image to RGB\n",
        "        image = cv2.cvtColor(frame, cv2.COLOR_BGR2RGB)\n",
        "        image.flags.writeable = False\n",
        "      \n",
        "        # Make detection\n",
        "        results = pose.process(image)\n",
        "    \n",
        "        # Recolor back to BGR\n",
        "        image.flags.writeable = True\n",
        "        image = cv2.cvtColor(image, cv2.COLOR_RGB2BGR)\n",
        "        \n",
        "        # Extract landmarks\n",
        "        try:\n",
        "            landmarks = results.pose_landmarks.landmark\n",
        "            print(landmarks)\n",
        "        except:\n",
        "            pass\n",
        "        \n",
        "        \n",
        "        # Render detections\n",
        "        mp_drawing.draw_landmarks(image, results.pose_landmarks, mp_pose.POSE_CONNECTIONS,\n",
        "                                mp_drawing.DrawingSpec(color=(245,117,66), thickness=2, circle_radius=2), \n",
        "                                mp_drawing.DrawingSpec(color=(245,66,230), thickness=2, circle_radius=2) \n",
        "                                 )               \n",
        "        \n",
        "        cv2.imshow('Mediapipe Feed', image)\n",
        "\n",
        "        if cv2.waitKey(10) & 0xFF == ord('q'):\n",
        "            break\n",
        "\n",
        "    cap.release()\n",
        "    cv2.destroyAllWindows()\n",
        "\n"
      ]
    },
    {
      "cell_type": "code",
      "execution_count": null,
      "metadata": {
        "id": "sGOSLL1bxu9h",
        "outputId": "97c98578-b8d2-45f3-ff93-ff975d99d97b"
      },
      "outputs": [
        {
          "data": {
            "text/plain": [
              "33"
            ]
          },
          "execution_count": 6,
          "metadata": {},
          "output_type": "execute_result"
        }
      ],
      "source": [
        "len(landmarks)"
      ]
    },
    {
      "cell_type": "code",
      "execution_count": null,
      "metadata": {
        "id": "KodukI4Sxu9i",
        "outputId": "ee3b31b8-e193-48dc-aedd-b590c86de1d1"
      },
      "outputs": [
        {
          "name": "stdout",
          "output_type": "stream",
          "text": [
            "PoseLandmark.NOSE\n",
            "PoseLandmark.LEFT_EYE_INNER\n",
            "PoseLandmark.LEFT_EYE\n",
            "PoseLandmark.LEFT_EYE_OUTER\n",
            "PoseLandmark.RIGHT_EYE_INNER\n",
            "PoseLandmark.RIGHT_EYE\n",
            "PoseLandmark.RIGHT_EYE_OUTER\n",
            "PoseLandmark.LEFT_EAR\n",
            "PoseLandmark.RIGHT_EAR\n",
            "PoseLandmark.MOUTH_LEFT\n",
            "PoseLandmark.MOUTH_RIGHT\n",
            "PoseLandmark.LEFT_SHOULDER\n",
            "PoseLandmark.RIGHT_SHOULDER\n",
            "PoseLandmark.LEFT_ELBOW\n",
            "PoseLandmark.RIGHT_ELBOW\n",
            "PoseLandmark.LEFT_WRIST\n",
            "PoseLandmark.RIGHT_WRIST\n",
            "PoseLandmark.LEFT_PINKY\n",
            "PoseLandmark.RIGHT_PINKY\n",
            "PoseLandmark.LEFT_INDEX\n",
            "PoseLandmark.RIGHT_INDEX\n",
            "PoseLandmark.LEFT_THUMB\n",
            "PoseLandmark.RIGHT_THUMB\n",
            "PoseLandmark.LEFT_HIP\n",
            "PoseLandmark.RIGHT_HIP\n",
            "PoseLandmark.LEFT_KNEE\n",
            "PoseLandmark.RIGHT_KNEE\n",
            "PoseLandmark.LEFT_ANKLE\n",
            "PoseLandmark.RIGHT_ANKLE\n",
            "PoseLandmark.LEFT_HEEL\n",
            "PoseLandmark.RIGHT_HEEL\n",
            "PoseLandmark.LEFT_FOOT_INDEX\n",
            "PoseLandmark.RIGHT_FOOT_INDEX\n"
          ]
        }
      ],
      "source": [
        "for lndmrk in mp_pose.PoseLandmark:\n",
        "    print(lndmrk)\n"
      ]
    },
    {
      "cell_type": "code",
      "execution_count": null,
      "metadata": {
        "id": "-5VgFBGTxu9i"
      },
      "outputs": [],
      "source": [
        "#calculating angle\n",
        "\n",
        "def calculate_angle(a,b,c):\n",
        "    a = np.array(a) # First\n",
        "    b = np.array(b) # Mid\n",
        "    c = np.array(c) # End\n",
        "    \n",
        "    radians = np.arctan2(c[1]-b[1], c[0]-b[0]) - np.arctan2(a[1]-b[1], a[0]-b[0])\n",
        "    angle = np.abs(radians*180.0/np.pi)\n",
        "    \n",
        "    if angle >180.0:\n",
        "        angle = 360-angle\n",
        "        \n",
        "    return angle "
      ]
    },
    {
      "cell_type": "code",
      "execution_count": null,
      "metadata": {
        "id": "i5-msckmxu9i",
        "outputId": "194d6192-865e-4771-c115-e84550d05650"
      },
      "outputs": [
        {
          "data": {
            "text/plain": [
              "172.67223653993267"
            ]
          },
          "execution_count": 14,
          "metadata": {},
          "output_type": "execute_result"
        }
      ],
      "source": [
        "calculate_angle(right_hip, right_knee, right_ankle)"
      ]
    },
    {
      "cell_type": "code",
      "execution_count": null,
      "metadata": {
        "id": "SC6kGiJ3xu9i"
      },
      "outputs": [],
      "source": [
        "#get time to display sec of training :\n",
        "def get_time(start_time):    \n",
        "    import time\n",
        "\n",
        "    end_time=time.time()\n",
        "    return(int(end_time-start_time))"
      ]
    },
    {
      "cell_type": "code",
      "execution_count": null,
      "metadata": {
        "id": "ueIpYwuDxu9i"
      },
      "outputs": [],
      "source": [
        "\n",
        "cap = cv2.VideoCapture(0)\n",
        "time_counter=0 \n",
        "exc_counter=0\n",
        "\n",
        "## Setup mediapipe instance\n",
        "with mp_pose.Pose(min_detection_confidence=0.5, min_tracking_confidence=0.5) as pose:\n",
        "    while cap.isOpened():\n",
        "        ret, frame = cap.read()\n",
        "        \n",
        "        # Recolor image to RGB (to be ready for mediapipe library)\n",
        "        image = cv2.cvtColor(frame, cv2.COLOR_BGR2RGB)\n",
        "        image.flags.writeable = False\n",
        "      \n",
        "        # Make detection\n",
        "        results = pose.process(image)\n",
        "    \n",
        "        # Recolor back to BGR (to be ready cv lib)\n",
        "        image.flags.writeable = True\n",
        "        image = cv2.cvtColor(image, cv2.COLOR_RGB2BGR)\n",
        "        \n",
        "        cv2.rectangle(image, (0,0), (280,70), (245,117,16), -1) #for the blue regtangle on the up-left\n",
        "        \n",
        "        # Extract landmarks\n",
        "        try:\n",
        "            landmarks = results.pose_landmarks.landmark\n",
        "            \n",
        "            # Get coordinates\n",
        "            right_hip = [landmarks[mp_pose.PoseLandmark.RIGHT_HIP.value].x,landmarks[mp_pose.PoseLandmark.RIGHT_HIP.value].y]\n",
        "            right_knee = [landmarks[mp_pose.PoseLandmark.RIGHT_KNEE.value].x,landmarks[mp_pose.PoseLandmark.RIGHT_KNEE.value].y]\n",
        "            right_ankle = [landmarks[mp_pose.PoseLandmark.RIGHT_ANKLE.value].x,landmarks[mp_pose.PoseLandmark.RIGHT_ANKLE.value].y]\n",
        "            \n",
        "            # Calculate angle\n",
        "            angle = calculate_angle(right_hip, right_knee, right_ankle)\n",
        "            \n",
        "            # Visualize angle\n",
        "            cv2.putText(image, str(angle), \n",
        "                           tuple(np.multiply(right_knee, [640, 480]).astype(int)), #to dispaly angle on knee (multiply coordiantes by display size) )\n",
        "                           cv2.FONT_HERSHEY_SIMPLEX, 0.5, (255, 255, 255), 2, cv2.LINE_AA\n",
        "                        \n",
        "                                )\n",
        "            \n",
        "            #exercise starting logic\n",
        "            right_knee_vis = landmarks[mp_pose.PoseLandmark.RIGHT_KNEE.value].visibility #getting visibility of the knee\n",
        "            \n",
        "            if (angle < 120) and right_knee_vis > 0.5 and exc_counter==0:#knee bent \n",
        "                flag=True\n",
        "                flag2=True\n",
        "                if start_time == 0 : \n",
        "                    start_time=time.time()\n",
        "                    \n",
        "            elif (angle < 120) and right_knee_vis > 0.5 and exc_counter > 0: #knee bent but finished one (8 sec)\n",
        "                flag2=False\n",
        "                flag=False\n",
        "                cv2.putText(image, 'successful rep,stretch your leg', (15,25), \n",
        "                    cv2.FONT_HERSHEY_SIMPLEX, 0.5, (255,255,255), 1, cv2.LINE_AA)               \n",
        "            else : #straight knee (normal position)\n",
        "                flag= False\n",
        "                flag2=True\n",
        "                start_time=0\n",
        "                \n",
        "                       \n",
        "        except:\n",
        "            pass\n",
        "\n",
        "        \n",
        "        if flag and flag2: #for frist condition\n",
        "            \n",
        "            status =\"you are in the right position\"\n",
        "            cv2.putText(image, f'{status}', (15,12), \n",
        "                cv2.FONT_HERSHEY_SIMPLEX, 0.5, (255,255,255), 1, cv2.LINE_AA)\n",
        "            time_counter=get_time(start_time)\n",
        "            if time_counter <= 8 :\n",
        "                cv2.putText(image, f'time_counter : {time_counter}', (15,25), \n",
        "                    cv2.FONT_HERSHEY_SIMPLEX, 0.5, (255,255,255), 1, cv2.LINE_AA)\n",
        "            else :#successful bent done\n",
        "                start_time = 0# reset for start time \n",
        "                exc_counter+=1 #make exc counter +1 to go to sec condition\n",
        "\n",
        "        else:# for third condition (straight leg ,normal condition)\n",
        "            if flag2 :\n",
        "                exc_counter = 0 #reset for it after finishing rep\n",
        "                status= \"make your knee bent\"\n",
        "                cv2.putText(image, f'{status}', (15,12), \n",
        "                    cv2.FONT_HERSHEY_SIMPLEX, 0.5, (255,255,255), 1, cv2.LINE_AA)\n",
        "                cv2.putText(image, f'time_counter  : {start_time}', (15,25), \n",
        "                    cv2.FONT_HERSHEY_SIMPLEX, 0.5, (255,255,255), 1, cv2.LINE_AA)\n",
        " \n",
        "        \n",
        "        \n",
        "        # Render detections\n",
        "        mp_drawing.draw_landmarks(image, results.pose_landmarks, mp_pose.POSE_CONNECTIONS,\n",
        "                                mp_drawing.DrawingSpec(color=(245,117,66), thickness=2, circle_radius=2), \n",
        "                                mp_drawing.DrawingSpec(color=(245,66,230), thickness=2, circle_radius=2) \n",
        "                                 )               \n",
        "        \n",
        "        cv2.imshow('Mediapipe Feed', image)\n",
        "\n",
        "        if cv2.waitKey(10) & 0xFF == ord('q'):\n",
        "            break\n",
        "\n",
        "    cap.release()\n",
        "    cv2.destroyAllWindows()"
      ]
    }
  ],
  "metadata": {
    "kernelspec": {
      "display_name": "Python 3 (ipykernel)",
      "language": "python",
      "name": "python3"
    },
    "language_info": {
      "codemirror_mode": {
        "name": "ipython",
        "version": 3
      },
      "file_extension": ".py",
      "mimetype": "text/x-python",
      "name": "python",
      "nbconvert_exporter": "python",
      "pygments_lexer": "ipython3",
      "version": "3.10.4"
    },
    "colab": {
      "provenance": []
    }
  },
  "nbformat": 4,
  "nbformat_minor": 0
}